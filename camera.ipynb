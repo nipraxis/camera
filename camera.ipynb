{
 "cells": [
  {
   "cell_type": "markdown",
   "id": "846318a6",
   "metadata": {},
   "source": [
    "# Cameraman"
   ]
  },
  {
   "cell_type": "code",
   "execution_count": null,
   "id": "98f3024d",
   "metadata": {},
   "outputs": [],
   "source": [
    "# Our usual imports\n",
    "import numpy as np  # the Python array package\n",
    "import matplotlib.pyplot as plt  # the Python plotting package"
   ]
  },
  {
   "cell_type": "markdown",
   "id": "7cf82cb6",
   "metadata": {},
   "source": [
    "Here was ask the Nipraxis library to download the data we will be working on — a text file with some image data."
   ]
  },
  {
   "cell_type": "code",
   "execution_count": null,
   "id": "82c44d35",
   "metadata": {},
   "outputs": [],
   "source": [
    "# Load utility that will fetch data from the web and store it.\n",
    "import nipraxis"
   ]
  },
  {
   "cell_type": "code",
   "execution_count": null,
   "id": "31488ae5",
   "metadata": {},
   "outputs": [],
   "source": [
    "# Get the cameraman data.\n",
    "camera_fname = nipraxis.fetch_file('camera.txt')\n",
    "# Show the filename.\n",
    "camera_fname"
   ]
  },
  {
   "cell_type": "markdown",
   "id": "cf814f79",
   "metadata": {},
   "source": [
    "The `camera.txt` file contains the pixel values for a picture, and it’s your\n",
    "job to find what picture that is. The file contains a single floating point\n",
    "value per line. Here are the first four lines of the file:\n",
    "\n",
    "```\n",
    "0.7843\n",
    "0.7843\n",
    "0.7804\n",
    "0.7843\n",
    "```\n",
    "\n",
    "You will first need to read in the file as a list of floating point values."
   ]
  },
  {
   "cell_type": "code",
   "execution_count": null,
   "id": "501d703f",
   "metadata": {},
   "outputs": [],
   "source": [
    "#- Read lines from file and convert to list of floats\n",
    "pixel_values = []  # empty list\n",
    "fobj = open(camera_fname, 'r')\n",
    "..."
   ]
  },
  {
   "cell_type": "markdown",
   "id": "a7b1c8bb",
   "metadata": {},
   "source": [
    "How many pixel values does this image contain? (Call this number `P`)."
   ]
  },
  {
   "cell_type": "code",
   "execution_count": null,
   "id": "d7684a6a",
   "metadata": {},
   "outputs": [],
   "source": [
    "#- What is P?\n",
    "P = ..."
   ]
  },
  {
   "cell_type": "markdown",
   "id": "08448113",
   "metadata": {},
   "source": [
    "## Reshaping the image"
   ]
  },
  {
   "cell_type": "code",
   "execution_count": null,
   "id": "24d7ceef",
   "metadata": {},
   "outputs": [],
   "source": [
    "# Test your result\n",
    "assert 'P' in dir()  # Variable exists.\n",
    "assert P is not ...  # Variable updated from default.\n",
    "assert P == 262144"
   ]
  },
  {
   "cell_type": "markdown",
   "id": "b07d0260",
   "metadata": {},
   "source": [
    "The array that forms the image is two-dimensional (it has a number of rows\n",
    "`M` and a number of columns `N`). If we got the right number of pixel\n",
    "values then `M * N == P`. That is, `M` and `N` have to be *factors* of `P` (the\n",
    "number of pixel values).\n",
    "\n",
    "We don’t know what `M` and `N` are, we will have to guess. Given the\n",
    "number of pixel values, what would your guess be for `M` and `N`?\n",
    "\n",
    "**Hint**: think of common image sizes and shapes."
   ]
  },
  {
   "cell_type": "code",
   "execution_count": null,
   "id": "1af146a1",
   "metadata": {},
   "outputs": [],
   "source": [
    "#- Guess M, N\n",
    "M = ..\n",
    "N = ..\n",
    "# Show M and N\n",
    "M, N"
   ]
  },
  {
   "cell_type": "code",
   "execution_count": null,
   "id": "e7f0a470",
   "metadata": {},
   "outputs": [],
   "source": [
    "# This just checks M*N - it doesn't check if M or N are correct!\n",
    "assert 'M' in dir()\n",
    "assert 'N' in dir()\n",
    "assert M != ...\n",
    "assert N != ...\n",
    "assert M * N == P"
   ]
  },
  {
   "cell_type": "markdown",
   "id": "f0466b56",
   "metadata": {},
   "source": [
    "Next we want to convert the list of pixel values to an array (that forms the\n",
    "image).\n",
    "\n",
    "Convert the `pixel_values` list to a pixel values array, and reshape it to\n",
    "your guess for the shape `(M, N)`."
   ]
  },
  {
   "cell_type": "code",
   "execution_count": null,
   "id": "f00830ab",
   "metadata": {},
   "outputs": [],
   "source": [
    "# Convert list to array and reshape\n",
    "# Before we start - the M and N values should be integers:\n",
    "M = int(M)\n",
    "N = int(N)\n",
    "#- Now convert pixel array to an array, and reshape.\n",
    "pixel_array = ...\n",
    "# Show the shape of the pixel_array\n",
    "pixel_array.shape"
   ]
  },
  {
   "cell_type": "markdown",
   "id": "6bee1a3c",
   "metadata": {},
   "source": [
    "Show this as an image using matplotlib’s `plt` module:"
   ]
  },
  {
   "cell_type": "code",
   "execution_count": null,
   "id": "b95d4b13",
   "metadata": {},
   "outputs": [],
   "source": [
    "# Run this cell.\n",
    "# Show image using plt module\n",
    "plt.imshow(pixel_array)"
   ]
  },
  {
   "cell_type": "markdown",
   "id": "d5fade9b",
   "metadata": {},
   "source": [
    "Is this the right shape already?\n",
    "\n",
    "If not — go back and try other values for `M` and `N`.\n",
    "\n",
    "If you get stuck, feel free to check [the solution](camera_solution.ipynb)."
   ]
  },
  {
   "cell_type": "markdown",
   "id": "169d4770",
   "metadata": {},
   "source": [
    "## The colors\n",
    "\n",
    "The colors are a little strange for a black and white photo (that is what this is).\n",
    "\n",
    "It would be better to display the image in black and white.\n",
    "\n",
    "Set the correct colormap in the plot command below.\n",
    "\n",
    "**Hint** — See the [Matplotlib colormap\n",
    "page](https://matplotlib.org/stable/tutorials/colors/colormaps.html).\n",
    "\n",
    "**Hint** – you can look for colormaps with `plt.cm.` and tab-completion, in IPython or a Jupyter notebook cell."
   ]
  },
  {
   "cell_type": "code",
   "execution_count": null,
   "id": "de09fa56",
   "metadata": {},
   "outputs": [],
   "source": [
    "#- A nicer version of the original plot"
   ]
  },
  {
   "cell_type": "markdown",
   "id": "f19b9d92",
   "metadata": {},
   "source": [
    "Now let’s say we want to binarize this image at some threshold `T`, so the\n",
    "man’s coat and hair and the camera tripod are black (pixel value of 0) and most\n",
    "everything else is white (pixel value of 1). How would we choose a good\n",
    "threshold? One step might be to plot a line out of the array (image) to get an\n",
    "idea of the values on that line."
   ]
  },
  {
   "cell_type": "code",
   "execution_count": null,
   "id": "e3772045",
   "metadata": {},
   "outputs": [],
   "source": [
    "# A plot of the pixel position in x and the pixel value in y, for an image line.\n",
    "plt.plot(pixel_array.T[380])"
   ]
  },
  {
   "cell_type": "markdown",
   "id": "03364bc8",
   "metadata": {},
   "source": [
    "Now you need to apply your threshold to the image to make a binary image where\n",
    "values less than the threshold are == 0 and greater than the threshold are `==\n",
    "1`. You might want to play with the threshold a little to get a good result."
   ]
  },
  {
   "cell_type": "code",
   "execution_count": null,
   "id": "e93cc0c6",
   "metadata": {},
   "outputs": [],
   "source": [
    "#- Apply threshold to make new binary image, and show binary image\n",
    "binary_array = ...\n",
    "# Show the result.\n",
    "plt.imshow(binary_array.T, cmap='gray')"
   ]
  },
  {
   "cell_type": "markdown",
   "id": "bce0939b",
   "metadata": {},
   "source": [
    "For extra points - the camera guy's coat is dark, and you can't see the details\n",
    "of the folds and collar of the coat at the moment, because the range of values\n",
    "is too large to distinguish the different dark levels on his coat. Can you make\n",
    "a good picture to show the folds on his coat, and the collar? Hint: you might\n",
    "want to explore the `np.clip` function."
   ]
  },
  {
   "cell_type": "code",
   "execution_count": null,
   "id": "541802ff",
   "metadata": {},
   "outputs": [],
   "source": [
    "#- Extra points - a good image of the folds of the man's coat."
   ]
  },
  {
   "cell_type": "markdown",
   "id": "db5933f9",
   "metadata": {},
   "source": [
    "## The solution\n",
    "\n",
    "Here is [the solution](camera_solution.ipynb)."
   ]
  }
 ],
 "metadata": {
  "jupytext": {
   "notebook_metadata_filter": "all,-language_info",
   "split_at_heading": true,
   "text_representation": {
    "extension": ".Rmd",
    "format_name": "rmarkdown",
    "format_version": "1.2",
    "jupytext_version": "1.13.7"
   }
  },
  "kernelspec": {
   "display_name": "Python 3",
   "language": "python",
   "name": "python3"
  }
 },
 "nbformat": 4,
 "nbformat_minor": 5
}
