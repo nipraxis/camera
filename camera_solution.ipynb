{
 "cells": [
  {
   "cell_type": "markdown",
   "id": "f590181b",
   "metadata": {},
   "source": [
    "# Cameraman"
   ]
  },
  {
   "cell_type": "code",
   "execution_count": 1,
   "id": "3eb90fa7",
   "metadata": {
    "execution": {
     "iopub.execute_input": "2022-03-31T10:28:43.545503Z",
     "iopub.status.busy": "2022-03-31T10:28:43.544822Z",
     "iopub.status.idle": "2022-03-31T10:28:43.866118Z",
     "shell.execute_reply": "2022-03-31T10:28:43.866549Z"
    }
   },
   "outputs": [],
   "source": [
    "#- Our usual imports\n",
    "import numpy as np  # the Python array package\n",
    "import matplotlib.pyplot as plt  # the Python plotting package"
   ]
  },
  {
   "cell_type": "markdown",
   "id": "fee7c405",
   "metadata": {},
   "source": [
    "Here was ask the Nipraxis library to download the data we will be working on — a text file with some image data."
   ]
  },
  {
   "cell_type": "code",
   "execution_count": 2,
   "id": "243e5e17",
   "metadata": {
    "execution": {
     "iopub.execute_input": "2022-03-31T10:28:43.870154Z",
     "iopub.status.busy": "2022-03-31T10:28:43.869493Z",
     "iopub.status.idle": "2022-03-31T10:28:43.961012Z",
     "shell.execute_reply": "2022-03-31T10:28:43.961445Z"
    }
   },
   "outputs": [],
   "source": [
    "# Load utility that will fetch data from the web and store it.\n",
    "import nipraxis"
   ]
  },
  {
   "cell_type": "code",
   "execution_count": 3,
   "id": "d0ddb1e7",
   "metadata": {
    "execution": {
     "iopub.execute_input": "2022-03-31T10:28:43.965142Z",
     "iopub.status.busy": "2022-03-31T10:28:43.964429Z",
     "iopub.status.idle": "2022-03-31T10:28:43.972861Z",
     "shell.execute_reply": "2022-03-31T10:28:43.973281Z"
    }
   },
   "outputs": [],
   "source": [
    "# Get the cameraman data.\n",
    "camera_fname = nipraxis.fetch_file('camera.txt')\n",
    "# Show the filename.\n",
    "camera_fname"
   ]
  },
  {
   "cell_type": "markdown",
   "id": "75a98d0d",
   "metadata": {},
   "source": [
    "The `camera.txt` file contains the pixel values for a picture, and it’s your\n",
    "job to find what picture that is. The file contains a single floating point\n",
    "value per line. Here are the first four lines of the file:\n",
    "\n",
    "```\n",
    "0.7843\n",
    "0.7843\n",
    "0.7804\n",
    "0.7843\n",
    "```\n",
    "\n",
    "You will first need to read in the file as a list of floating point values."
   ]
  },
  {
   "cell_type": "code",
   "execution_count": 4,
   "id": "a2879966",
   "metadata": {
    "execution": {
     "iopub.execute_input": "2022-03-31T10:28:43.977923Z",
     "iopub.status.busy": "2022-03-31T10:28:43.976963Z",
     "iopub.status.idle": "2022-03-31T10:28:44.077642Z",
     "shell.execute_reply": "2022-03-31T10:28:44.078204Z"
    }
   },
   "outputs": [],
   "source": [
    "#- Read lines from file and convert to list of floats\n",
    "pixel_values = []  # empty list\n",
    "fobj = open(camera_fname, 'r')\n",
    "pixel_values = []\n",
    "fobj = open(camera_fname, 'r')\n",
    "for line in fobj:\n",
    "    pixel_values.append(float(line))\n",
    "# Show the first four values\n",
    "pixel_values[:4]"
   ]
  },
  {
   "cell_type": "markdown",
   "id": "ccbec803",
   "metadata": {},
   "source": [
    "How many pixel values does this image contain? (Call this number `P`)."
   ]
  },
  {
   "cell_type": "code",
   "execution_count": 5,
   "id": "38b0d5bc",
   "metadata": {
    "execution": {
     "iopub.execute_input": "2022-03-31T10:28:44.082143Z",
     "iopub.status.busy": "2022-03-31T10:28:44.081437Z",
     "iopub.status.idle": "2022-03-31T10:28:44.084017Z",
     "shell.execute_reply": "2022-03-31T10:28:44.084509Z"
    }
   },
   "outputs": [],
   "source": [
    "#- What is P?\n",
    "P = len(pixel_values)\n",
    "# Show P\n",
    "P"
   ]
  },
  {
   "cell_type": "markdown",
   "id": "edd314bb",
   "metadata": {},
   "source": [
    "## Reshaping the image"
   ]
  },
  {
   "cell_type": "code",
   "execution_count": 6,
   "id": "1bda3821",
   "metadata": {
    "execution": {
     "iopub.execute_input": "2022-03-31T10:28:44.088219Z",
     "iopub.status.busy": "2022-03-31T10:28:44.087562Z",
     "iopub.status.idle": "2022-03-31T10:28:44.089887Z",
     "shell.execute_reply": "2022-03-31T10:28:44.089366Z"
    }
   },
   "outputs": [],
   "source": [
    "# Test your result\n",
    "assert 'P' in dir()  # Variable exists.\n",
    "assert P is not ...  # Variable updated from default.\n",
    "assert P == 262144"
   ]
  },
  {
   "cell_type": "markdown",
   "id": "4c5fc20e",
   "metadata": {},
   "source": [
    "The array that forms the image is two-dimensional (it has a number of rows\n",
    "`M` and a number of columns `N`). If we got the right number of pixel\n",
    "values then `M * N == P`. That is, `M` and `N` have to be *factors* of `P` (the\n",
    "number of pixel values).\n",
    "\n",
    "We don’t know what `M` and `N` are, we will have to guess. Given the\n",
    "number of pixel values, what would your guess be for `M` and `N`?\n",
    "\n",
    "**Hint**: think of common image sizes and shapes."
   ]
  },
  {
   "cell_type": "code",
   "execution_count": 7,
   "id": "d4cf64a6",
   "metadata": {
    "execution": {
     "iopub.execute_input": "2022-03-31T10:28:44.093616Z",
     "iopub.status.busy": "2022-03-31T10:28:44.093031Z",
     "iopub.status.idle": "2022-03-31T10:28:44.095561Z",
     "shell.execute_reply": "2022-03-31T10:28:44.095977Z"
    }
   },
   "outputs": [],
   "source": [
    "#- Guess M, N\n",
    "M = np.sqrt(P)\n",
    "N = M\n",
    "# Show M and N\n",
    "M, N"
   ]
  },
  {
   "cell_type": "code",
   "execution_count": 8,
   "id": "28759ba5",
   "metadata": {
    "execution": {
     "iopub.execute_input": "2022-03-31T10:28:44.100759Z",
     "iopub.status.busy": "2022-03-31T10:28:44.100173Z",
     "iopub.status.idle": "2022-03-31T10:28:44.102053Z",
     "shell.execute_reply": "2022-03-31T10:28:44.102470Z"
    }
   },
   "outputs": [],
   "source": [
    "# This just checks M*N - it doesn't check if M or N are correct!\n",
    "assert 'M' in dir()\n",
    "assert 'N' in dir()\n",
    "assert M != ...\n",
    "assert N != ...\n",
    "assert M * N == P"
   ]
  },
  {
   "cell_type": "markdown",
   "id": "ee388181",
   "metadata": {},
   "source": [
    "Next we want to convert the list of pixel values to an array (that forms the\n",
    "image).\n",
    "\n",
    "Convert the `pixel_values` list to a pixel values array, and reshape it to\n",
    "your guess for the shape `(M, N)`."
   ]
  },
  {
   "cell_type": "code",
   "execution_count": 9,
   "id": "f4e3b756",
   "metadata": {
    "execution": {
     "iopub.execute_input": "2022-03-31T10:28:44.122431Z",
     "iopub.status.busy": "2022-03-31T10:28:44.121702Z",
     "iopub.status.idle": "2022-03-31T10:28:44.124319Z",
     "shell.execute_reply": "2022-03-31T10:28:44.124863Z"
    }
   },
   "outputs": [],
   "source": [
    "# Convert list to array and reshape\n",
    "# Before we start - the M and N values should be integers:\n",
    "M = int(M)\n",
    "N = int(N)\n",
    "#- Now convert pixel array to an array, and reshape.\n",
    "pixel_array = np.array(pixel_values)\n",
    "pixel_array = np.reshape(pixel_array, (int(M), int(N)))\n",
    "# Show the shape of the pixel_array\n",
    "pixel_array.shape"
   ]
  },
  {
   "cell_type": "markdown",
   "id": "4ff45566",
   "metadata": {},
   "source": [
    "Show this as an image using matplotlib’s `plt` module:"
   ]
  },
  {
   "cell_type": "code",
   "execution_count": 10,
   "id": "f3c5f7c4",
   "metadata": {
    "execution": {
     "iopub.execute_input": "2022-03-31T10:28:44.144085Z",
     "iopub.status.busy": "2022-03-31T10:28:44.139228Z",
     "iopub.status.idle": "2022-03-31T10:28:44.287278Z",
     "shell.execute_reply": "2022-03-31T10:28:44.287705Z"
    }
   },
   "outputs": [],
   "source": [
    "# Run this cell.\n",
    "# Show image using plt module\n",
    "plt.imshow(pixel_array)"
   ]
  },
  {
   "cell_type": "markdown",
   "id": "d08a4420",
   "metadata": {},
   "source": [
    "Is this the right shape already?\n",
    "\n",
    "If not — go back and try other values for `M` and `N`.\n",
    "\n",
    "If you get stuck, feel free to check [the solution](camera_solution.ipynb)."
   ]
  },
  {
   "cell_type": "markdown",
   "id": "265d7a13",
   "metadata": {},
   "source": [
    "## The colors\n",
    "\n",
    "The colors are a little strange for a black and white photo (that is what this is).\n",
    "\n",
    "It would be better to display the image in black and white.\n",
    "\n",
    "Set the correct colormap in the plot command below.\n",
    "\n",
    "**Hint** — See the [Matplotlib colormap\n",
    "page](https://matplotlib.org/stable/tutorials/colors/colormaps.html).\n",
    "\n",
    "**Hint** – you can look for colormaps with `plt.cm.` and tab-completion, in IPython or a Jupyter notebook cell."
   ]
  },
  {
   "cell_type": "code",
   "execution_count": 11,
   "id": "60eea8ba",
   "metadata": {
    "execution": {
     "iopub.execute_input": "2022-03-31T10:28:44.302427Z",
     "iopub.status.busy": "2022-03-31T10:28:44.299456Z",
     "iopub.status.idle": "2022-03-31T10:28:44.429130Z",
     "shell.execute_reply": "2022-03-31T10:28:44.429548Z"
    }
   },
   "outputs": [],
   "source": [
    "#- A nicer version of the original plot\n",
    "plt.imshow(pixel_array.T, cmap='gray')"
   ]
  },
  {
   "cell_type": "markdown",
   "id": "4ed2aa73",
   "metadata": {},
   "source": [
    "Now let’s say we want to binarize this image at some threshold `T`, so the\n",
    "man’s coat and hair and the camera tripod are black (pixel value of 0) and most\n",
    "everything else is white (pixel value of 1). How would we choose a good\n",
    "threshold? One step might be to plot a line out of the array (image) to get an\n",
    "idea of the values on that line."
   ]
  },
  {
   "cell_type": "code",
   "execution_count": 12,
   "id": "168cfb89",
   "metadata": {
    "execution": {
     "iopub.execute_input": "2022-03-31T10:28:44.449059Z",
     "iopub.status.busy": "2022-03-31T10:28:44.448355Z",
     "iopub.status.idle": "2022-03-31T10:28:44.533435Z",
     "shell.execute_reply": "2022-03-31T10:28:44.534015Z"
    }
   },
   "outputs": [],
   "source": [
    "# A plot of the pixel position in x and the pixel value in y, for an image line.\n",
    "plt.plot(pixel_array.T[380])"
   ]
  },
  {
   "cell_type": "markdown",
   "id": "b34b5f1c",
   "metadata": {},
   "source": [
    "Now you need to apply your threshold to the image to make a binary image where\n",
    "values less than the threshold are == 0 and greater than the threshold are `==\n",
    "1`. You might want to play with the threshold a little to get a good result."
   ]
  },
  {
   "cell_type": "code",
   "execution_count": 13,
   "id": "a40e0e56",
   "metadata": {
    "execution": {
     "iopub.execute_input": "2022-03-31T10:28:44.537770Z",
     "iopub.status.busy": "2022-03-31T10:28:44.537167Z",
     "iopub.status.idle": "2022-03-31T10:28:44.653204Z",
     "shell.execute_reply": "2022-03-31T10:28:44.653685Z"
    }
   },
   "outputs": [],
   "source": [
    "#- Apply threshold to make new binary image, and show binary image\n",
    "binary_array = pixel_array > 0.3\n",
    "# Show the result.\n",
    "plt.imshow(binary_array.T, cmap='gray')"
   ]
  },
  {
   "cell_type": "markdown",
   "id": "bd1559fb",
   "metadata": {},
   "source": [
    "For extra points - the camera guy's coat is dark, and you can't see the details\n",
    "of the folds and collar of the coat at the moment, because the range of values\n",
    "is too large to distinguish the different dark levels on his coat. Can you make\n",
    "a good picture to show the folds on his coat, and the collar? Hint: you might\n",
    "want to explore the `np.clip` function."
   ]
  },
  {
   "cell_type": "code",
   "execution_count": 14,
   "id": "7dd069a9",
   "metadata": {
    "execution": {
     "iopub.execute_input": "2022-03-31T10:28:44.657489Z",
     "iopub.status.busy": "2022-03-31T10:28:44.656881Z",
     "iopub.status.idle": "2022-03-31T10:28:44.778744Z",
     "shell.execute_reply": "2022-03-31T10:28:44.779174Z"
    }
   },
   "outputs": [],
   "source": [
    "#- Extra points - a good image of the folds of the man's coat.\n",
    "clipped_array = np.clip(pixel_array, 0, 0.2)\n",
    "plt.imshow(clipped_array.T, cmap='gray');"
   ]
  },
  {
   "cell_type": "markdown",
   "id": "0145cdc9",
   "metadata": {},
   "source": [
    "## The solution\n",
    "\n",
    "Here is [the solution](camera_solution.ipynb)."
   ]
  }
 ],
 "metadata": {
  "jupytext": {
   "notebook_metadata_filter": "all,-language_info",
   "split_at_heading": true,
   "text_representation": {
    "extension": ".Rmd",
    "format_name": "rmarkdown",
    "format_version": "1.2",
    "jupytext_version": "1.13.7"
   }
  },
  "kernelspec": {
   "display_name": "Python 3",
   "language": "python",
   "name": "python3"
  },
  "language_info": {
   "codemirror_mode": {
    "name": "ipython",
    "version": 3
   },
   "file_extension": ".py",
   "mimetype": "text/x-python",
   "name": "python",
   "nbconvert_exporter": "python",
   "pygments_lexer": "ipython3",
   "version": "3.8.13"
  }
 },
 "nbformat": 4,
 "nbformat_minor": 5
}
