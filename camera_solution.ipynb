{
 "cells": [
  {
   "cell_type": "markdown",
   "id": "eeffc70a",
   "metadata": {},
   "source": [
    "# Cameraman"
   ]
  },
  {
   "cell_type": "code",
   "execution_count": 1,
   "id": "3073e5a2",
   "metadata": {
    "execution": {
     "iopub.execute_input": "2022-08-15T17:51:37.484459Z",
     "iopub.status.busy": "2022-08-15T17:51:37.484171Z",
     "iopub.status.idle": "2022-08-15T17:51:37.781061Z",
     "shell.execute_reply": "2022-08-15T17:51:37.780125Z"
    }
   },
   "outputs": [],
   "source": [
    "# Our usual imports\n",
    "from pathlib import Path\n",
    "import numpy as np  # the Python array package\n",
    "import matplotlib.pyplot as plt  # the Python plotting package"
   ]
  },
  {
   "cell_type": "markdown",
   "id": "de44a324",
   "metadata": {},
   "source": [
    "Here was ask the Nipraxis library to download the data we will be working on — a text file with some image data."
   ]
  },
  {
   "cell_type": "code",
   "execution_count": 2,
   "id": "95a6dc87",
   "metadata": {
    "execution": {
     "iopub.execute_input": "2022-08-15T17:51:37.784616Z",
     "iopub.status.busy": "2022-08-15T17:51:37.784378Z",
     "iopub.status.idle": "2022-08-15T17:51:37.849360Z",
     "shell.execute_reply": "2022-08-15T17:51:37.848573Z"
    }
   },
   "outputs": [],
   "source": [
    "# Load utility that will fetch data from the web and store it.\n",
    "import nipraxis"
   ]
  },
  {
   "cell_type": "code",
   "execution_count": 3,
   "id": "6805b5a4",
   "metadata": {
    "execution": {
     "iopub.execute_input": "2022-08-15T17:51:37.852495Z",
     "iopub.status.busy": "2022-08-15T17:51:37.852260Z",
     "iopub.status.idle": "2022-08-15T17:51:37.861345Z",
     "shell.execute_reply": "2022-08-15T17:51:37.860776Z"
    }
   },
   "outputs": [],
   "source": [
    "# Get the cameraman data.\n",
    "camera_fname = nipraxis.fetch_file('camera.txt')\n",
    "# Show the filename.\n",
    "camera_fname"
   ]
  },
  {
   "cell_type": "markdown",
   "id": "9e2cb02b",
   "metadata": {},
   "source": [
    "The `camera.txt` file contains the pixel values for a picture, and it’s your\n",
    "job to find what picture that is. The file contains a single floating point\n",
    "value per line. Here are the first four lines of the file:\n",
    "\n",
    "```\n",
    "0.7843\n",
    "0.7843\n",
    "0.7804\n",
    "0.7843\n",
    "```\n",
    "\n",
    "You will first need to read in the file as a list of floating point values.\n",
    "\n",
    "Here we read the text from the file for you, to give one long string with the contents of the file:"
   ]
  },
  {
   "cell_type": "code",
   "execution_count": 4,
   "id": "6373e4d6",
   "metadata": {
    "execution": {
     "iopub.execute_input": "2022-08-15T17:51:37.865037Z",
     "iopub.status.busy": "2022-08-15T17:51:37.864710Z",
     "iopub.status.idle": "2022-08-15T17:51:38.023874Z",
     "shell.execute_reply": "2022-08-15T17:51:38.023057Z"
    }
   },
   "outputs": [],
   "source": [
    "text = Path(camera_fname).read_text()\n",
    "print(text)"
   ]
  },
  {
   "cell_type": "markdown",
   "id": "120f1f48",
   "metadata": {},
   "source": [
    "Now convert each line into its corresponding floating point value, to give a list of floating point values, one for each pixel."
   ]
  },
  {
   "cell_type": "code",
   "execution_count": 5,
   "id": "177425c0",
   "metadata": {
    "execution": {
     "iopub.execute_input": "2022-08-15T17:51:38.085453Z",
     "iopub.status.busy": "2022-08-15T17:51:38.085150Z",
     "iopub.status.idle": "2022-08-15T17:51:38.185910Z",
     "shell.execute_reply": "2022-08-15T17:51:38.185340Z"
    }
   },
   "outputs": [],
   "source": [
    "#- Convert file text to list of floats\n",
    "pixel_values = []  # empty list\n",
    "pixel_values = []\n",
    "for line in text.splitlines():\n",
    "    pixel_values.append(float(line))\n",
    "# Show the first four values\n",
    "pixel_values[:4]"
   ]
  },
  {
   "cell_type": "markdown",
   "id": "fd14314c",
   "metadata": {},
   "source": [
    "How many pixel values does this image contain? (Call this number `P`)."
   ]
  },
  {
   "cell_type": "code",
   "execution_count": 6,
   "id": "f15e4cd5",
   "metadata": {
    "execution": {
     "iopub.execute_input": "2022-08-15T17:51:38.189008Z",
     "iopub.status.busy": "2022-08-15T17:51:38.188728Z",
     "iopub.status.idle": "2022-08-15T17:51:38.192671Z",
     "shell.execute_reply": "2022-08-15T17:51:38.192124Z"
    }
   },
   "outputs": [],
   "source": [
    "#- What is P?\n",
    "P = len(pixel_values)\n",
    "# Show P\n",
    "P"
   ]
  },
  {
   "cell_type": "markdown",
   "id": "2991900d",
   "metadata": {},
   "source": [
    "## Reshaping the image"
   ]
  },
  {
   "cell_type": "code",
   "execution_count": 7,
   "id": "8221d18a",
   "metadata": {
    "execution": {
     "iopub.execute_input": "2022-08-15T17:51:38.195473Z",
     "iopub.status.busy": "2022-08-15T17:51:38.195249Z",
     "iopub.status.idle": "2022-08-15T17:51:38.198393Z",
     "shell.execute_reply": "2022-08-15T17:51:38.197724Z"
    }
   },
   "outputs": [],
   "source": [
    "# Test your result\n",
    "assert 'P' in dir()  # Variable exists.\n",
    "assert P is not ...  # Variable updated from default.\n",
    "assert P == 262144"
   ]
  },
  {
   "cell_type": "markdown",
   "id": "db49d3ef",
   "metadata": {},
   "source": [
    "The array that forms the image is two-dimensional (it has a number of rows\n",
    "`M` and a number of columns `N`). If we got the right number of pixel\n",
    "values then `M * N == P`. That is, `M` and `N` have to be *factors* of `P` (the\n",
    "number of pixel values).\n",
    "\n",
    "We don’t know what `M` and `N` are, we will have to guess. Given the\n",
    "number of pixel values, what would your guess be for `M` and `N`?\n",
    "\n",
    "**Hint**: think of common image sizes and shapes."
   ]
  },
  {
   "cell_type": "code",
   "execution_count": 8,
   "id": "3fc74d10",
   "metadata": {
    "execution": {
     "iopub.execute_input": "2022-08-15T17:51:38.201162Z",
     "iopub.status.busy": "2022-08-15T17:51:38.200931Z",
     "iopub.status.idle": "2022-08-15T17:51:38.205050Z",
     "shell.execute_reply": "2022-08-15T17:51:38.204390Z"
    }
   },
   "outputs": [],
   "source": [
    "#- Guess M, N\n",
    "M = np.sqrt(P)\n",
    "N = M\n",
    "# Show M and N\n",
    "M, N"
   ]
  },
  {
   "cell_type": "code",
   "execution_count": 9,
   "id": "e650b900",
   "metadata": {
    "execution": {
     "iopub.execute_input": "2022-08-15T17:51:38.207812Z",
     "iopub.status.busy": "2022-08-15T17:51:38.207590Z",
     "iopub.status.idle": "2022-08-15T17:51:38.211064Z",
     "shell.execute_reply": "2022-08-15T17:51:38.210090Z"
    }
   },
   "outputs": [],
   "source": [
    "# This just checks M*N - it doesn't check if M or N are correct!\n",
    "assert 'M' in dir()\n",
    "assert 'N' in dir()\n",
    "assert M != ...\n",
    "assert N != ...\n",
    "assert M * N == P"
   ]
  },
  {
   "cell_type": "markdown",
   "id": "8ac41845",
   "metadata": {},
   "source": [
    "Next we want to convert the list of pixel values to an array (that forms the\n",
    "image).\n",
    "\n",
    "Convert the `pixel_values` list to a pixel values array, and reshape it to\n",
    "your guess for the shape `(M, N)`."
   ]
  },
  {
   "cell_type": "code",
   "execution_count": 10,
   "id": "fe55f263",
   "metadata": {
    "execution": {
     "iopub.execute_input": "2022-08-15T17:51:38.214352Z",
     "iopub.status.busy": "2022-08-15T17:51:38.214049Z",
     "iopub.status.idle": "2022-08-15T17:51:38.234634Z",
     "shell.execute_reply": "2022-08-15T17:51:38.234007Z"
    }
   },
   "outputs": [],
   "source": [
    "# Convert list to array and reshape\n",
    "# Before we start - the M and N values should be integers:\n",
    "M = int(M)\n",
    "N = int(N)\n",
    "#- Now convert pixel array to an array, and reshape.\n",
    "pixel_array = np.array(pixel_values)\n",
    "pixel_array = np.reshape(pixel_array, (int(M), int(N)))\n",
    "# Show the shape of the pixel_array\n",
    "pixel_array.shape"
   ]
  },
  {
   "cell_type": "markdown",
   "id": "051b0d78",
   "metadata": {},
   "source": [
    "Show this as an image using matplotlib’s `plt` module:"
   ]
  },
  {
   "cell_type": "code",
   "execution_count": 11,
   "id": "d96ecdc9",
   "metadata": {
    "execution": {
     "iopub.execute_input": "2022-08-15T17:51:38.237717Z",
     "iopub.status.busy": "2022-08-15T17:51:38.237465Z",
     "iopub.status.idle": "2022-08-15T17:51:38.401168Z",
     "shell.execute_reply": "2022-08-15T17:51:38.400446Z"
    }
   },
   "outputs": [],
   "source": [
    "# Run this cell.\n",
    "# Show image using plt module\n",
    "plt.imshow(pixel_array)"
   ]
  },
  {
   "cell_type": "markdown",
   "id": "47c50cda",
   "metadata": {},
   "source": [
    "Is this the right shape already?\n",
    "\n",
    "If not — go back and try other values for `M` and `N`.\n",
    "\n",
    "If you get stuck, feel free to check [the solution](camera_solution.ipynb)."
   ]
  },
  {
   "cell_type": "markdown",
   "id": "174c774a",
   "metadata": {},
   "source": [
    "## Right way up?\n",
    "\n",
    "Is the image the right way up, so the camera is pointing to the right of the screen?\n",
    "\n",
    "Modify the cell below, so the camera points to the right of the screen:"
   ]
  },
  {
   "cell_type": "code",
   "execution_count": 12,
   "id": "a0e07ab2",
   "metadata": {
    "execution": {
     "iopub.execute_input": "2022-08-15T17:51:38.405204Z",
     "iopub.status.busy": "2022-08-15T17:51:38.404953Z",
     "iopub.status.idle": "2022-08-15T17:51:38.560484Z",
     "shell.execute_reply": "2022-08-15T17:51:38.559643Z"
    }
   },
   "outputs": [],
   "source": [
    "# Run this cell.\n",
    "# Show image using plt module\n",
    "plt.imshow(pixel_array.T)"
   ]
  },
  {
   "cell_type": "markdown",
   "id": "dbe26a24",
   "metadata": {},
   "source": [
    "## The colors\n",
    "\n",
    "The colors are a little strange for a black and white photo (that is what this\n",
    "is).\n",
    "\n",
    "It would be better to display the image in black and white.\n",
    "\n",
    "Set the correct colormap in the plot command below.\n",
    "\n",
    "**Hint** — See the [Matplotlib colormap\n",
    "page](https://matplotlib.org/stable/tutorials/colors/colormaps.html).\n",
    "\n",
    "**Hint** – you can look for colormaps with `plt.cm.` and tab-completion, in IPython or a Jupyter notebook cell."
   ]
  },
  {
   "cell_type": "code",
   "execution_count": 13,
   "id": "339d65e9",
   "metadata": {
    "execution": {
     "iopub.execute_input": "2022-08-15T17:51:38.564688Z",
     "iopub.status.busy": "2022-08-15T17:51:38.564430Z",
     "iopub.status.idle": "2022-08-15T17:51:38.711545Z",
     "shell.execute_reply": "2022-08-15T17:51:38.710902Z"
    }
   },
   "outputs": [],
   "source": [
    "#- A nicer version of the original plot\n",
    "plt.imshow(pixel_array.T, cmap='gray')"
   ]
  },
  {
   "cell_type": "markdown",
   "id": "d726f01c",
   "metadata": {},
   "source": [
    "Now let’s say we want to binarize this image at some threshold `T`, so the\n",
    "man’s coat and hair and the camera tripod are black (pixel value of 0) and most\n",
    "everything else is white (pixel value of 1). How would we choose a good\n",
    "threshold? One step might be to plot a line out of the array (image) to get an\n",
    "idea of the values on that line."
   ]
  },
  {
   "cell_type": "code",
   "execution_count": 14,
   "id": "c5c499a1",
   "metadata": {
    "execution": {
     "iopub.execute_input": "2022-08-15T17:51:38.714853Z",
     "iopub.status.busy": "2022-08-15T17:51:38.714615Z",
     "iopub.status.idle": "2022-08-15T17:51:38.828295Z",
     "shell.execute_reply": "2022-08-15T17:51:38.827679Z"
    }
   },
   "outputs": [],
   "source": [
    "# A plot of the pixel position in x and the pixel value in y, for an image line.\n",
    "plt.plot(pixel_array.T[380])"
   ]
  },
  {
   "cell_type": "markdown",
   "id": "76db6ae4",
   "metadata": {},
   "source": [
    "Now you need to apply your threshold to the image to make a binary image where\n",
    "values less than the threshold are == 0 and greater than the threshold are `==\n",
    "1`. You might want to play with the threshold a little to get a good result."
   ]
  },
  {
   "cell_type": "code",
   "execution_count": 15,
   "id": "4b082dd1",
   "metadata": {
    "execution": {
     "iopub.execute_input": "2022-08-15T17:51:38.832723Z",
     "iopub.status.busy": "2022-08-15T17:51:38.832421Z",
     "iopub.status.idle": "2022-08-15T17:51:39.017349Z",
     "shell.execute_reply": "2022-08-15T17:51:39.015811Z"
    }
   },
   "outputs": [],
   "source": [
    "#- Apply threshold to make new binary image, and show binary image\n",
    "binary_array = pixel_array > 0.3\n",
    "# Show the result.\n",
    "plt.imshow(binary_array.T, cmap='gray')"
   ]
  },
  {
   "cell_type": "markdown",
   "id": "a7b09676",
   "metadata": {},
   "source": [
    "For extra points - the camera guy's coat is dark, and you can't see the details\n",
    "of the folds and collar of the coat at the moment, because the range of values\n",
    "is too large to distinguish the different dark levels on his coat. Can you make\n",
    "a good picture to show the folds on his coat, and the collar? Hint: you might\n",
    "want to explore the `np.clip` function."
   ]
  },
  {
   "cell_type": "code",
   "execution_count": 16,
   "id": "00e2aa78",
   "metadata": {
    "execution": {
     "iopub.execute_input": "2022-08-15T17:51:39.025522Z",
     "iopub.status.busy": "2022-08-15T17:51:39.025239Z",
     "iopub.status.idle": "2022-08-15T17:51:39.221314Z",
     "shell.execute_reply": "2022-08-15T17:51:39.220544Z"
    }
   },
   "outputs": [],
   "source": [
    "#- Extra points - a good image of the folds of the man's coat.\n",
    "clipped_array = np.clip(pixel_array, 0, 0.2)\n",
    "plt.imshow(clipped_array.T, cmap='gray');"
   ]
  },
  {
   "cell_type": "markdown",
   "id": "08fe8215",
   "metadata": {},
   "source": [
    "## The solution\n",
    "\n",
    "Here is [the solution](camera_solution.ipynb)."
   ]
  }
 ],
 "metadata": {
  "jupytext": {
   "notebook_metadata_filter": "all,-language_info",
   "split_at_heading": true,
   "text_representation": {
    "extension": ".Rmd",
    "format_name": "rmarkdown",
    "format_version": "1.2",
    "jupytext_version": "1.13.7"
   }
  },
  "kernelspec": {
   "display_name": "Python 3",
   "language": "python",
   "name": "python3"
  },
  "language_info": {
   "codemirror_mode": {
    "name": "ipython",
    "version": 3
   },
   "file_extension": ".py",
   "mimetype": "text/x-python",
   "name": "python",
   "nbconvert_exporter": "python",
   "pygments_lexer": "ipython3",
   "version": "3.8.13"
  }
 },
 "nbformat": 4,
 "nbformat_minor": 5
}
