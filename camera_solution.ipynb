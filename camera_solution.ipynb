{
 "cells": [
  {
   "cell_type": "markdown",
   "id": "1b135012",
   "metadata": {},
   "source": [
    "# Cameraman"
   ]
  },
  {
   "cell_type": "code",
   "execution_count": 1,
   "id": "9f39c28b",
   "metadata": {
    "execution": {
     "iopub.execute_input": "2022-03-31T14:43:40.525033Z",
     "iopub.status.busy": "2022-03-31T14:43:40.524346Z",
     "iopub.status.idle": "2022-03-31T14:43:40.799171Z",
     "shell.execute_reply": "2022-03-31T14:43:40.798657Z"
    }
   },
   "outputs": [],
   "source": [
    "# Our usual imports\n",
    "import numpy as np  # the Python array package\n",
    "import matplotlib.pyplot as plt  # the Python plotting package"
   ]
  },
  {
   "cell_type": "markdown",
   "id": "9f206b23",
   "metadata": {},
   "source": [
    "Here was ask the Nipraxis library to download the data we will be working on — a text file with some image data."
   ]
  },
  {
   "cell_type": "code",
   "execution_count": 2,
   "id": "9953aa03",
   "metadata": {
    "execution": {
     "iopub.execute_input": "2022-03-31T14:43:40.802942Z",
     "iopub.status.busy": "2022-03-31T14:43:40.802344Z",
     "iopub.status.idle": "2022-03-31T14:43:40.863137Z",
     "shell.execute_reply": "2022-03-31T14:43:40.863561Z"
    }
   },
   "outputs": [],
   "source": [
    "# Load utility that will fetch data from the web and store it.\n",
    "import nipraxis"
   ]
  },
  {
   "cell_type": "code",
   "execution_count": 3,
   "id": "74ecc448",
   "metadata": {
    "execution": {
     "iopub.execute_input": "2022-03-31T14:43:40.867319Z",
     "iopub.status.busy": "2022-03-31T14:43:40.866719Z",
     "iopub.status.idle": "2022-03-31T14:43:40.875544Z",
     "shell.execute_reply": "2022-03-31T14:43:40.876189Z"
    }
   },
   "outputs": [],
   "source": [
    "# Get the cameraman data.\n",
    "camera_fname = nipraxis.fetch_file('camera.txt')\n",
    "# Show the filename.\n",
    "camera_fname"
   ]
  },
  {
   "cell_type": "markdown",
   "id": "dba3f1a1",
   "metadata": {},
   "source": [
    "The `camera.txt` file contains the pixel values for a picture, and it’s your\n",
    "job to find what picture that is. The file contains a single floating point\n",
    "value per line. Here are the first four lines of the file:\n",
    "\n",
    "```\n",
    "0.7843\n",
    "0.7843\n",
    "0.7804\n",
    "0.7843\n",
    "```\n",
    "\n",
    "You will first need to read in the file as a list of floating point values."
   ]
  },
  {
   "cell_type": "code",
   "execution_count": 4,
   "id": "4d724cfb",
   "metadata": {
    "execution": {
     "iopub.execute_input": "2022-03-31T14:43:40.880456Z",
     "iopub.status.busy": "2022-03-31T14:43:40.879835Z",
     "iopub.status.idle": "2022-03-31T14:43:40.980096Z",
     "shell.execute_reply": "2022-03-31T14:43:40.979642Z"
    }
   },
   "outputs": [],
   "source": [
    "#- Read lines from file and convert to list of floats\n",
    "pixel_values = []  # empty list\n",
    "fobj = open(camera_fname, 'r')\n",
    "pixel_values = []\n",
    "fobj = open(camera_fname, 'r')\n",
    "for line in fobj:\n",
    "    pixel_values.append(float(line))\n",
    "# Show the first four values\n",
    "pixel_values[:4]"
   ]
  },
  {
   "cell_type": "markdown",
   "id": "14f500a4",
   "metadata": {},
   "source": [
    "How many pixel values does this image contain? (Call this number `P`)."
   ]
  },
  {
   "cell_type": "code",
   "execution_count": 5,
   "id": "895ecfc8",
   "metadata": {
    "execution": {
     "iopub.execute_input": "2022-03-31T14:43:40.984069Z",
     "iopub.status.busy": "2022-03-31T14:43:40.983455Z",
     "iopub.status.idle": "2022-03-31T14:43:40.985922Z",
     "shell.execute_reply": "2022-03-31T14:43:40.986335Z"
    }
   },
   "outputs": [],
   "source": [
    "#- What is P?\n",
    "P = len(pixel_values)\n",
    "# Show P\n",
    "P"
   ]
  },
  {
   "cell_type": "markdown",
   "id": "af273c5a",
   "metadata": {},
   "source": [
    "## Reshaping the image"
   ]
  },
  {
   "cell_type": "code",
   "execution_count": 6,
   "id": "7be4b9a5",
   "metadata": {
    "execution": {
     "iopub.execute_input": "2022-03-31T14:43:40.990365Z",
     "iopub.status.busy": "2022-03-31T14:43:40.989723Z",
     "iopub.status.idle": "2022-03-31T14:43:40.992015Z",
     "shell.execute_reply": "2022-03-31T14:43:40.991491Z"
    }
   },
   "outputs": [],
   "source": [
    "# Test your result\n",
    "assert 'P' in dir()  # Variable exists.\n",
    "assert P is not ...  # Variable updated from default.\n",
    "assert P == 262144"
   ]
  },
  {
   "cell_type": "markdown",
   "id": "ab9c6c92",
   "metadata": {},
   "source": [
    "The array that forms the image is two-dimensional (it has a number of rows\n",
    "`M` and a number of columns `N`). If we got the right number of pixel\n",
    "values then `M * N == P`. That is, `M` and `N` have to be *factors* of `P` (the\n",
    "number of pixel values).\n",
    "\n",
    "We don’t know what `M` and `N` are, we will have to guess. Given the\n",
    "number of pixel values, what would your guess be for `M` and `N`?\n",
    "\n",
    "**Hint**: think of common image sizes and shapes."
   ]
  },
  {
   "cell_type": "code",
   "execution_count": 7,
   "id": "69b8deff",
   "metadata": {
    "execution": {
     "iopub.execute_input": "2022-03-31T14:43:40.995943Z",
     "iopub.status.busy": "2022-03-31T14:43:40.995311Z",
     "iopub.status.idle": "2022-03-31T14:43:40.997877Z",
     "shell.execute_reply": "2022-03-31T14:43:40.998292Z"
    }
   },
   "outputs": [],
   "source": [
    "#- Guess M, N\n",
    "M = np.sqrt(P)\n",
    "N = M\n",
    "# Show M and N\n",
    "M, N"
   ]
  },
  {
   "cell_type": "code",
   "execution_count": 8,
   "id": "631f78ed",
   "metadata": {
    "execution": {
     "iopub.execute_input": "2022-03-31T14:43:41.002985Z",
     "iopub.status.busy": "2022-03-31T14:43:41.002385Z",
     "iopub.status.idle": "2022-03-31T14:43:41.004169Z",
     "shell.execute_reply": "2022-03-31T14:43:41.004719Z"
    }
   },
   "outputs": [],
   "source": [
    "# This just checks M*N - it doesn't check if M or N are correct!\n",
    "assert 'M' in dir()\n",
    "assert 'N' in dir()\n",
    "assert M != ...\n",
    "assert N != ...\n",
    "assert M * N == P"
   ]
  },
  {
   "cell_type": "markdown",
   "id": "19ea1bce",
   "metadata": {},
   "source": [
    "Next we want to convert the list of pixel values to an array (that forms the\n",
    "image).\n",
    "\n",
    "Convert the `pixel_values` list to a pixel values array, and reshape it to\n",
    "your guess for the shape `(M, N)`."
   ]
  },
  {
   "cell_type": "code",
   "execution_count": 9,
   "id": "0a9faeae",
   "metadata": {
    "execution": {
     "iopub.execute_input": "2022-03-31T14:43:41.024796Z",
     "iopub.status.busy": "2022-03-31T14:43:41.024182Z",
     "iopub.status.idle": "2022-03-31T14:43:41.026654Z",
     "shell.execute_reply": "2022-03-31T14:43:41.027133Z"
    }
   },
   "outputs": [],
   "source": [
    "# Convert list to array and reshape\n",
    "# Before we start - the M and N values should be integers:\n",
    "M = int(M)\n",
    "N = int(N)\n",
    "#- Now convert pixel array to an array, and reshape.\n",
    "pixel_array = np.array(pixel_values)\n",
    "pixel_array = np.reshape(pixel_array, (int(M), int(N)))\n",
    "# Show the shape of the pixel_array\n",
    "pixel_array.shape"
   ]
  },
  {
   "cell_type": "markdown",
   "id": "efd00ad2",
   "metadata": {},
   "source": [
    "Show this as an image using matplotlib’s `plt` module:"
   ]
  },
  {
   "cell_type": "code",
   "execution_count": 10,
   "id": "3a280e53",
   "metadata": {
    "execution": {
     "iopub.execute_input": "2022-03-31T14:43:41.046806Z",
     "iopub.status.busy": "2022-03-31T14:43:41.046196Z",
     "iopub.status.idle": "2022-03-31T14:43:41.182404Z",
     "shell.execute_reply": "2022-03-31T14:43:41.182832Z"
    }
   },
   "outputs": [],
   "source": [
    "# Run this cell.\n",
    "# Show image using plt module\n",
    "plt.imshow(pixel_array)"
   ]
  },
  {
   "cell_type": "markdown",
   "id": "ab7d2bf4",
   "metadata": {},
   "source": [
    "Is this the right shape already?\n",
    "\n",
    "If not — go back and try other values for `M` and `N`.\n",
    "\n",
    "If you get stuck, feel free to check [the solution](camera_solution.ipynb)."
   ]
  },
  {
   "cell_type": "markdown",
   "id": "54f37a08",
   "metadata": {},
   "source": [
    "## The colors\n",
    "\n",
    "The colors are a little strange for a black and white photo (that is what this is).\n",
    "\n",
    "It would be better to display the image in black and white.\n",
    "\n",
    "Set the correct colormap in the plot command below.\n",
    "\n",
    "**Hint** — See the [Matplotlib colormap\n",
    "page](https://matplotlib.org/stable/tutorials/colors/colormaps.html).\n",
    "\n",
    "**Hint** – you can look for colormaps with `plt.cm.` and tab-completion, in IPython or a Jupyter notebook cell."
   ]
  },
  {
   "cell_type": "code",
   "execution_count": 11,
   "id": "09946897",
   "metadata": {
    "execution": {
     "iopub.execute_input": "2022-03-31T14:43:41.202222Z",
     "iopub.status.busy": "2022-03-31T14:43:41.201599Z",
     "iopub.status.idle": "2022-03-31T14:43:41.322973Z",
     "shell.execute_reply": "2022-03-31T14:43:41.323470Z"
    }
   },
   "outputs": [],
   "source": [
    "#- A nicer version of the original plot\n",
    "plt.imshow(pixel_array.T, cmap='gray')"
   ]
  },
  {
   "cell_type": "markdown",
   "id": "ec09a5ea",
   "metadata": {},
   "source": [
    "Now let’s say we want to binarize this image at some threshold `T`, so the\n",
    "man’s coat and hair and the camera tripod are black (pixel value of 0) and most\n",
    "everything else is white (pixel value of 1). How would we choose a good\n",
    "threshold? One step might be to plot a line out of the array (image) to get an\n",
    "idea of the values on that line."
   ]
  },
  {
   "cell_type": "code",
   "execution_count": 12,
   "id": "8004a759",
   "metadata": {
    "execution": {
     "iopub.execute_input": "2022-03-31T14:43:41.343748Z",
     "iopub.status.busy": "2022-03-31T14:43:41.343119Z",
     "iopub.status.idle": "2022-03-31T14:43:41.431391Z",
     "shell.execute_reply": "2022-03-31T14:43:41.431816Z"
    }
   },
   "outputs": [],
   "source": [
    "# A plot of the pixel position in x and the pixel value in y, for an image line.\n",
    "plt.plot(pixel_array.T[380])"
   ]
  },
  {
   "cell_type": "markdown",
   "id": "23c6bc5d",
   "metadata": {},
   "source": [
    "Now you need to apply your threshold to the image to make a binary image where\n",
    "values less than the threshold are == 0 and greater than the threshold are `==\n",
    "1`. You might want to play with the threshold a little to get a good result."
   ]
  },
  {
   "cell_type": "code",
   "execution_count": 13,
   "id": "32518d09",
   "metadata": {
    "execution": {
     "iopub.execute_input": "2022-03-31T14:43:41.450453Z",
     "iopub.status.busy": "2022-03-31T14:43:41.435083Z",
     "iopub.status.idle": "2022-03-31T14:43:41.552318Z",
     "shell.execute_reply": "2022-03-31T14:43:41.552743Z"
    }
   },
   "outputs": [],
   "source": [
    "#- Apply threshold to make new binary image, and show binary image\n",
    "binary_array = pixel_array > 0.3\n",
    "# Show the result.\n",
    "plt.imshow(binary_array.T, cmap='gray')"
   ]
  },
  {
   "cell_type": "markdown",
   "id": "711d2509",
   "metadata": {},
   "source": [
    "For extra points - the camera guy's coat is dark, and you can't see the details\n",
    "of the folds and collar of the coat at the moment, because the range of values\n",
    "is too large to distinguish the different dark levels on his coat. Can you make\n",
    "a good picture to show the folds on his coat, and the collar? Hint: you might\n",
    "want to explore the `np.clip` function."
   ]
  },
  {
   "cell_type": "code",
   "execution_count": 14,
   "id": "3678a889",
   "metadata": {
    "execution": {
     "iopub.execute_input": "2022-03-31T14:43:41.557047Z",
     "iopub.status.busy": "2022-03-31T14:43:41.556425Z",
     "iopub.status.idle": "2022-03-31T14:43:41.679173Z",
     "shell.execute_reply": "2022-03-31T14:43:41.679601Z"
    }
   },
   "outputs": [],
   "source": [
    "#- Extra points - a good image of the folds of the man's coat.\n",
    "clipped_array = np.clip(pixel_array, 0, 0.2)\n",
    "plt.imshow(clipped_array.T, cmap='gray');"
   ]
  },
  {
   "cell_type": "markdown",
   "id": "3ec3f855",
   "metadata": {},
   "source": [
    "## The solution\n",
    "\n",
    "Here is [the solution](camera_solution.ipynb)."
   ]
  }
 ],
 "metadata": {
  "jupytext": {
   "notebook_metadata_filter": "all,-language_info",
   "split_at_heading": true,
   "text_representation": {
    "extension": ".Rmd",
    "format_name": "rmarkdown",
    "format_version": "1.2",
    "jupytext_version": "1.13.7"
   }
  },
  "kernelspec": {
   "display_name": "Python 3",
   "language": "python",
   "name": "python3"
  },
  "language_info": {
   "codemirror_mode": {
    "name": "ipython",
    "version": 3
   },
   "file_extension": ".py",
   "mimetype": "text/x-python",
   "name": "python",
   "nbconvert_exporter": "python",
   "pygments_lexer": "ipython3",
   "version": "3.8.13"
  }
 },
 "nbformat": 4,
 "nbformat_minor": 5
}
