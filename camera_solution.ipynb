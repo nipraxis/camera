{
 "cells": [
  {
   "cell_type": "markdown",
   "id": "60a8ca9b",
   "metadata": {},
   "source": [
    "# Cameraman"
   ]
  },
  {
   "cell_type": "code",
   "execution_count": 1,
   "id": "a40931bd",
   "metadata": {
    "execution": {
     "iopub.execute_input": "2022-04-02T16:25:31.466312Z",
     "iopub.status.busy": "2022-04-02T16:25:31.465632Z",
     "iopub.status.idle": "2022-04-02T16:25:31.737689Z",
     "shell.execute_reply": "2022-04-02T16:25:31.738116Z"
    }
   },
   "outputs": [],
   "source": [
    "# Our usual imports\n",
    "import numpy as np  # the Python array package\n",
    "import matplotlib.pyplot as plt  # the Python plotting package"
   ]
  },
  {
   "cell_type": "markdown",
   "id": "4c3cfe27",
   "metadata": {},
   "source": [
    "Here was ask the Nipraxis library to download the data we will be working on — a text file with some image data."
   ]
  },
  {
   "cell_type": "code",
   "execution_count": 2,
   "id": "13d66b10",
   "metadata": {
    "execution": {
     "iopub.execute_input": "2022-04-02T16:25:31.741674Z",
     "iopub.status.busy": "2022-04-02T16:25:31.741069Z",
     "iopub.status.idle": "2022-04-02T16:25:31.812148Z",
     "shell.execute_reply": "2022-04-02T16:25:31.812538Z"
    }
   },
   "outputs": [],
   "source": [
    "# Load utility that will fetch data from the web and store it.\n",
    "import nipraxis"
   ]
  },
  {
   "cell_type": "code",
   "execution_count": 3,
   "id": "916b856c",
   "metadata": {
    "execution": {
     "iopub.execute_input": "2022-04-02T16:25:31.816688Z",
     "iopub.status.busy": "2022-04-02T16:25:31.816098Z",
     "iopub.status.idle": "2022-04-02T16:25:31.826218Z",
     "shell.execute_reply": "2022-04-02T16:25:31.826720Z"
    }
   },
   "outputs": [],
   "source": [
    "# Get the cameraman data.\n",
    "camera_fname = nipraxis.fetch_file('camera.txt')\n",
    "# Show the filename.\n",
    "camera_fname"
   ]
  },
  {
   "cell_type": "markdown",
   "id": "9fc44368",
   "metadata": {},
   "source": [
    "The `camera.txt` file contains the pixel values for a picture, and it’s your\n",
    "job to find what picture that is. The file contains a single floating point\n",
    "value per line. Here are the first four lines of the file:\n",
    "\n",
    "```\n",
    "0.7843\n",
    "0.7843\n",
    "0.7804\n",
    "0.7843\n",
    "```\n",
    "\n",
    "You will first need to read in the file as a list of floating point values."
   ]
  },
  {
   "cell_type": "code",
   "execution_count": 4,
   "id": "b6e5f512",
   "metadata": {
    "execution": {
     "iopub.execute_input": "2022-04-02T16:25:31.830811Z",
     "iopub.status.busy": "2022-04-02T16:25:31.830219Z",
     "iopub.status.idle": "2022-04-02T16:25:31.931824Z",
     "shell.execute_reply": "2022-04-02T16:25:31.932542Z"
    }
   },
   "outputs": [],
   "source": [
    "#- Read lines from file and convert to list of floats\n",
    "pixel_values = []  # empty list\n",
    "fobj = open(camera_fname, 'r')\n",
    "pixel_values = []\n",
    "fobj = open(camera_fname, 'r')\n",
    "for line in fobj:\n",
    "    pixel_values.append(float(line))\n",
    "# Show the first four values\n",
    "pixel_values[:4]"
   ]
  },
  {
   "cell_type": "markdown",
   "id": "ea8d715a",
   "metadata": {},
   "source": [
    "How many pixel values does this image contain? (Call this number `P`)."
   ]
  },
  {
   "cell_type": "code",
   "execution_count": 5,
   "id": "10d6d1d5",
   "metadata": {
    "execution": {
     "iopub.execute_input": "2022-04-02T16:25:31.936628Z",
     "iopub.status.busy": "2022-04-02T16:25:31.935856Z",
     "iopub.status.idle": "2022-04-02T16:25:31.939029Z",
     "shell.execute_reply": "2022-04-02T16:25:31.939452Z"
    }
   },
   "outputs": [],
   "source": [
    "#- What is P?\n",
    "P = len(pixel_values)\n",
    "# Show P\n",
    "P"
   ]
  },
  {
   "cell_type": "markdown",
   "id": "89146a7f",
   "metadata": {},
   "source": [
    "## Reshaping the image"
   ]
  },
  {
   "cell_type": "code",
   "execution_count": 6,
   "id": "6ff828c8",
   "metadata": {
    "execution": {
     "iopub.execute_input": "2022-04-02T16:25:31.943244Z",
     "iopub.status.busy": "2022-04-02T16:25:31.942596Z",
     "iopub.status.idle": "2022-04-02T16:25:31.944867Z",
     "shell.execute_reply": "2022-04-02T16:25:31.944356Z"
    }
   },
   "outputs": [],
   "source": [
    "# Test your result\n",
    "assert 'P' in dir()  # Variable exists.\n",
    "assert P is not ...  # Variable updated from default.\n",
    "assert P == 262144"
   ]
  },
  {
   "cell_type": "markdown",
   "id": "aa02cb08",
   "metadata": {},
   "source": [
    "The array that forms the image is two-dimensional (it has a number of rows\n",
    "`M` and a number of columns `N`). If we got the right number of pixel\n",
    "values then `M * N == P`. That is, `M` and `N` have to be *factors* of `P` (the\n",
    "number of pixel values).\n",
    "\n",
    "We don’t know what `M` and `N` are, we will have to guess. Given the\n",
    "number of pixel values, what would your guess be for `M` and `N`?\n",
    "\n",
    "**Hint**: think of common image sizes and shapes."
   ]
  },
  {
   "cell_type": "code",
   "execution_count": 7,
   "id": "f400efb8",
   "metadata": {
    "execution": {
     "iopub.execute_input": "2022-04-02T16:25:31.948780Z",
     "iopub.status.busy": "2022-04-02T16:25:31.948147Z",
     "iopub.status.idle": "2022-04-02T16:25:31.950660Z",
     "shell.execute_reply": "2022-04-02T16:25:31.951075Z"
    }
   },
   "outputs": [],
   "source": [
    "#- Guess M, N\n",
    "M = np.sqrt(P)\n",
    "N = M\n",
    "# Show M and N\n",
    "M, N"
   ]
  },
  {
   "cell_type": "code",
   "execution_count": 8,
   "id": "91efbcaf",
   "metadata": {
    "execution": {
     "iopub.execute_input": "2022-04-02T16:25:31.956084Z",
     "iopub.status.busy": "2022-04-02T16:25:31.955478Z",
     "iopub.status.idle": "2022-04-02T16:25:31.957344Z",
     "shell.execute_reply": "2022-04-02T16:25:31.957765Z"
    }
   },
   "outputs": [],
   "source": [
    "# This just checks M*N - it doesn't check if M or N are correct!\n",
    "assert 'M' in dir()\n",
    "assert 'N' in dir()\n",
    "assert M != ...\n",
    "assert N != ...\n",
    "assert M * N == P"
   ]
  },
  {
   "cell_type": "markdown",
   "id": "92f07f84",
   "metadata": {},
   "source": [
    "Next we want to convert the list of pixel values to an array (that forms the\n",
    "image).\n",
    "\n",
    "Convert the `pixel_values` list to a pixel values array, and reshape it to\n",
    "your guess for the shape `(M, N)`."
   ]
  },
  {
   "cell_type": "code",
   "execution_count": 9,
   "id": "4c195b06",
   "metadata": {
    "execution": {
     "iopub.execute_input": "2022-04-02T16:25:31.977836Z",
     "iopub.status.busy": "2022-04-02T16:25:31.977136Z",
     "iopub.status.idle": "2022-04-02T16:25:31.979834Z",
     "shell.execute_reply": "2022-04-02T16:25:31.980252Z"
    }
   },
   "outputs": [],
   "source": [
    "# Convert list to array and reshape\n",
    "# Before we start - the M and N values should be integers:\n",
    "M = int(M)\n",
    "N = int(N)\n",
    "#- Now convert pixel array to an array, and reshape.\n",
    "pixel_array = np.array(pixel_values)\n",
    "pixel_array = np.reshape(pixel_array, (int(M), int(N)))\n",
    "# Show the shape of the pixel_array\n",
    "pixel_array.shape"
   ]
  },
  {
   "cell_type": "markdown",
   "id": "b3099496",
   "metadata": {},
   "source": [
    "Show this as an image using matplotlib’s `plt` module:"
   ]
  },
  {
   "cell_type": "code",
   "execution_count": 10,
   "id": "234278a2",
   "metadata": {
    "execution": {
     "iopub.execute_input": "2022-04-02T16:25:31.995948Z",
     "iopub.status.busy": "2022-04-02T16:25:31.995349Z",
     "iopub.status.idle": "2022-04-02T16:25:32.166568Z",
     "shell.execute_reply": "2022-04-02T16:25:32.166982Z"
    }
   },
   "outputs": [],
   "source": [
    "# Run this cell.\n",
    "# Show image using plt module\n",
    "plt.imshow(pixel_array)"
   ]
  },
  {
   "cell_type": "markdown",
   "id": "f15e37dd",
   "metadata": {},
   "source": [
    "Is this the right shape already?\n",
    "\n",
    "If not — go back and try other values for `M` and `N`.\n",
    "\n",
    "If you get stuck, feel free to check [the solution](camera_solution.ipynb)."
   ]
  },
  {
   "cell_type": "markdown",
   "id": "b901192a",
   "metadata": {},
   "source": [
    "## Right way up?\n",
    "\n",
    "Is the image the right way up, so the camera is pointing to the right of the screen?\n",
    "\n",
    "Modify the cell below, so the camera points to the right of the screen:"
   ]
  },
  {
   "cell_type": "code",
   "execution_count": 11,
   "id": "2aff89da",
   "metadata": {
    "execution": {
     "iopub.execute_input": "2022-04-02T16:25:32.186173Z",
     "iopub.status.busy": "2022-04-02T16:25:32.185437Z",
     "iopub.status.idle": "2022-04-02T16:25:32.310210Z",
     "shell.execute_reply": "2022-04-02T16:25:32.310626Z"
    }
   },
   "outputs": [],
   "source": [
    "# Run this cell.\n",
    "# Show image using plt module\n",
    "plt.imshow(pixel_array.T)"
   ]
  },
  {
   "cell_type": "markdown",
   "id": "69a9dfc8",
   "metadata": {},
   "source": [
    "## The colors\n",
    "\n",
    "The colors are a little strange for a black and white photo (that is what this\n",
    "is).\n",
    "\n",
    "It would be better to display the image in black and white.\n",
    "\n",
    "Set the correct colormap in the plot command below.\n",
    "\n",
    "**Hint** — See the [Matplotlib colormap\n",
    "page](https://matplotlib.org/stable/tutorials/colors/colormaps.html).\n",
    "\n",
    "**Hint** – you can look for colormaps with `plt.cm.` and tab-completion, in IPython or a Jupyter notebook cell."
   ]
  },
  {
   "cell_type": "code",
   "execution_count": 12,
   "id": "b2e35ef8",
   "metadata": {
    "execution": {
     "iopub.execute_input": "2022-04-02T16:25:32.329693Z",
     "iopub.status.busy": "2022-04-02T16:25:32.329053Z",
     "iopub.status.idle": "2022-04-02T16:25:32.450011Z",
     "shell.execute_reply": "2022-04-02T16:25:32.450392Z"
    }
   },
   "outputs": [],
   "source": [
    "#- A nicer version of the original plot\n",
    "plt.imshow(pixel_array.T, cmap='gray')"
   ]
  },
  {
   "cell_type": "markdown",
   "id": "2e3a6c22",
   "metadata": {},
   "source": [
    "Now let’s say we want to binarize this image at some threshold `T`, so the\n",
    "man’s coat and hair and the camera tripod are black (pixel value of 0) and most\n",
    "everything else is white (pixel value of 1). How would we choose a good\n",
    "threshold? One step might be to plot a line out of the array (image) to get an\n",
    "idea of the values on that line."
   ]
  },
  {
   "cell_type": "code",
   "execution_count": 13,
   "id": "c786cb5a",
   "metadata": {
    "execution": {
     "iopub.execute_input": "2022-04-02T16:25:32.471392Z",
     "iopub.status.busy": "2022-04-02T16:25:32.470726Z",
     "iopub.status.idle": "2022-04-02T16:25:32.556449Z",
     "shell.execute_reply": "2022-04-02T16:25:32.556868Z"
    }
   },
   "outputs": [],
   "source": [
    "# A plot of the pixel position in x and the pixel value in y, for an image line.\n",
    "plt.plot(pixel_array.T[380])"
   ]
  },
  {
   "cell_type": "markdown",
   "id": "d01b116c",
   "metadata": {},
   "source": [
    "Now you need to apply your threshold to the image to make a binary image where\n",
    "values less than the threshold are == 0 and greater than the threshold are `==\n",
    "1`. You might want to play with the threshold a little to get a good result."
   ]
  },
  {
   "cell_type": "code",
   "execution_count": 14,
   "id": "b22af76a",
   "metadata": {
    "execution": {
     "iopub.execute_input": "2022-04-02T16:25:32.560490Z",
     "iopub.status.busy": "2022-04-02T16:25:32.559894Z",
     "iopub.status.idle": "2022-04-02T16:25:32.677585Z",
     "shell.execute_reply": "2022-04-02T16:25:32.678013Z"
    }
   },
   "outputs": [],
   "source": [
    "#- Apply threshold to make new binary image, and show binary image\n",
    "binary_array = pixel_array > 0.3\n",
    "# Show the result.\n",
    "plt.imshow(binary_array.T, cmap='gray')"
   ]
  },
  {
   "cell_type": "markdown",
   "id": "3eaf50e5",
   "metadata": {},
   "source": [
    "For extra points - the camera guy's coat is dark, and you can't see the details\n",
    "of the folds and collar of the coat at the moment, because the range of values\n",
    "is too large to distinguish the different dark levels on his coat. Can you make\n",
    "a good picture to show the folds on his coat, and the collar? Hint: you might\n",
    "want to explore the `np.clip` function."
   ]
  },
  {
   "cell_type": "code",
   "execution_count": 15,
   "id": "f6aee0f8",
   "metadata": {
    "execution": {
     "iopub.execute_input": "2022-04-02T16:25:32.681754Z",
     "iopub.status.busy": "2022-04-02T16:25:32.681162Z",
     "iopub.status.idle": "2022-04-02T16:25:32.805855Z",
     "shell.execute_reply": "2022-04-02T16:25:32.806289Z"
    }
   },
   "outputs": [],
   "source": [
    "#- Extra points - a good image of the folds of the man's coat.\n",
    "clipped_array = np.clip(pixel_array, 0, 0.2)\n",
    "plt.imshow(clipped_array.T, cmap='gray');"
   ]
  },
  {
   "cell_type": "markdown",
   "id": "679e1205",
   "metadata": {},
   "source": [
    "## The solution\n",
    "\n",
    "Here is [the solution](camera_solution.ipynb)."
   ]
  }
 ],
 "metadata": {
  "jupytext": {
   "notebook_metadata_filter": "all,-language_info",
   "split_at_heading": true,
   "text_representation": {
    "extension": ".Rmd",
    "format_name": "rmarkdown",
    "format_version": "1.2",
    "jupytext_version": "1.13.7"
   }
  },
  "kernelspec": {
   "display_name": "Python 3",
   "language": "python",
   "name": "python3"
  },
  "language_info": {
   "codemirror_mode": {
    "name": "ipython",
    "version": 3
   },
   "file_extension": ".py",
   "mimetype": "text/x-python",
   "name": "python",
   "nbconvert_exporter": "python",
   "pygments_lexer": "ipython3",
   "version": "3.8.13"
  }
 },
 "nbformat": 4,
 "nbformat_minor": 5
}
