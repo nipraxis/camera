{
 "cells": [
  {
   "cell_type": "markdown",
   "id": "7389293c",
   "metadata": {},
   "source": [
    "# Cameraman"
   ]
  },
  {
   "cell_type": "code",
   "execution_count": 1,
   "id": "9587ae50",
   "metadata": {
    "execution": {
     "iopub.execute_input": "2022-04-01T13:16:37.871409Z",
     "iopub.status.busy": "2022-04-01T13:16:37.870718Z",
     "iopub.status.idle": "2022-04-01T13:16:38.204723Z",
     "shell.execute_reply": "2022-04-01T13:16:38.205153Z"
    }
   },
   "outputs": [],
   "source": [
    "# Our usual imports\n",
    "import numpy as np  # the Python array package\n",
    "import matplotlib.pyplot as plt  # the Python plotting package"
   ]
  },
  {
   "cell_type": "markdown",
   "id": "3c4b3176",
   "metadata": {},
   "source": [
    "Here was ask the Nipraxis library to download the data we will be working on — a text file with some image data."
   ]
  },
  {
   "cell_type": "code",
   "execution_count": 2,
   "id": "c50a245f",
   "metadata": {
    "execution": {
     "iopub.execute_input": "2022-04-01T13:16:38.209004Z",
     "iopub.status.busy": "2022-04-01T13:16:38.208323Z",
     "iopub.status.idle": "2022-04-01T13:16:38.294596Z",
     "shell.execute_reply": "2022-04-01T13:16:38.295045Z"
    }
   },
   "outputs": [],
   "source": [
    "# Load utility that will fetch data from the web and store it.\n",
    "import nipraxis"
   ]
  },
  {
   "cell_type": "code",
   "execution_count": 3,
   "id": "945c24e6",
   "metadata": {
    "execution": {
     "iopub.execute_input": "2022-04-01T13:16:38.298699Z",
     "iopub.status.busy": "2022-04-01T13:16:38.298051Z",
     "iopub.status.idle": "2022-04-01T13:16:38.308657Z",
     "shell.execute_reply": "2022-04-01T13:16:38.309149Z"
    }
   },
   "outputs": [],
   "source": [
    "# Get the cameraman data.\n",
    "camera_fname = nipraxis.fetch_file('camera.txt')\n",
    "# Show the filename.\n",
    "camera_fname"
   ]
  },
  {
   "cell_type": "markdown",
   "id": "aa6f8b09",
   "metadata": {},
   "source": [
    "The `camera.txt` file contains the pixel values for a picture, and it’s your\n",
    "job to find what picture that is. The file contains a single floating point\n",
    "value per line. Here are the first four lines of the file:\n",
    "\n",
    "```\n",
    "0.7843\n",
    "0.7843\n",
    "0.7804\n",
    "0.7843\n",
    "```\n",
    "\n",
    "You will first need to read in the file as a list of floating point values."
   ]
  },
  {
   "cell_type": "code",
   "execution_count": 4,
   "id": "a2d53f51",
   "metadata": {
    "execution": {
     "iopub.execute_input": "2022-04-01T13:16:38.313700Z",
     "iopub.status.busy": "2022-04-01T13:16:38.313032Z",
     "iopub.status.idle": "2022-04-01T13:16:38.413891Z",
     "shell.execute_reply": "2022-04-01T13:16:38.414360Z"
    }
   },
   "outputs": [],
   "source": [
    "#- Read lines from file and convert to list of floats\n",
    "pixel_values = []  # empty list\n",
    "fobj = open(camera_fname, 'r')\n",
    "pixel_values = []\n",
    "fobj = open(camera_fname, 'r')\n",
    "for line in fobj:\n",
    "    pixel_values.append(float(line))\n",
    "# Show the first four values\n",
    "pixel_values[:4]"
   ]
  },
  {
   "cell_type": "markdown",
   "id": "ab9c2e84",
   "metadata": {},
   "source": [
    "How many pixel values does this image contain? (Call this number `P`)."
   ]
  },
  {
   "cell_type": "code",
   "execution_count": 5,
   "id": "9530066d",
   "metadata": {
    "execution": {
     "iopub.execute_input": "2022-04-01T13:16:38.418278Z",
     "iopub.status.busy": "2022-04-01T13:16:38.417669Z",
     "iopub.status.idle": "2022-04-01T13:16:38.420179Z",
     "shell.execute_reply": "2022-04-01T13:16:38.420620Z"
    }
   },
   "outputs": [],
   "source": [
    "#- What is P?\n",
    "P = len(pixel_values)\n",
    "# Show P\n",
    "P"
   ]
  },
  {
   "cell_type": "markdown",
   "id": "7f018c1b",
   "metadata": {},
   "source": [
    "## Reshaping the image"
   ]
  },
  {
   "cell_type": "code",
   "execution_count": 6,
   "id": "100b785a",
   "metadata": {
    "execution": {
     "iopub.execute_input": "2022-04-01T13:16:38.424371Z",
     "iopub.status.busy": "2022-04-01T13:16:38.423765Z",
     "iopub.status.idle": "2022-04-01T13:16:38.426192Z",
     "shell.execute_reply": "2022-04-01T13:16:38.425730Z"
    }
   },
   "outputs": [],
   "source": [
    "# Test your result\n",
    "assert 'P' in dir()  # Variable exists.\n",
    "assert P is not ...  # Variable updated from default.\n",
    "assert P == 262144"
   ]
  },
  {
   "cell_type": "markdown",
   "id": "e81f6d2f",
   "metadata": {},
   "source": [
    "The array that forms the image is two-dimensional (it has a number of rows\n",
    "`M` and a number of columns `N`). If we got the right number of pixel\n",
    "values then `M * N == P`. That is, `M` and `N` have to be *factors* of `P` (the\n",
    "number of pixel values).\n",
    "\n",
    "We don’t know what `M` and `N` are, we will have to guess. Given the\n",
    "number of pixel values, what would your guess be for `M` and `N`?\n",
    "\n",
    "**Hint**: think of common image sizes and shapes."
   ]
  },
  {
   "cell_type": "code",
   "execution_count": 7,
   "id": "262267bd",
   "metadata": {
    "execution": {
     "iopub.execute_input": "2022-04-01T13:16:38.430526Z",
     "iopub.status.busy": "2022-04-01T13:16:38.429814Z",
     "iopub.status.idle": "2022-04-01T13:16:38.432349Z",
     "shell.execute_reply": "2022-04-01T13:16:38.432782Z"
    }
   },
   "outputs": [],
   "source": [
    "#- Guess M, N\n",
    "M = np.sqrt(P)\n",
    "N = M\n",
    "# Show M and N\n",
    "M, N"
   ]
  },
  {
   "cell_type": "code",
   "execution_count": 8,
   "id": "5da82331",
   "metadata": {
    "execution": {
     "iopub.execute_input": "2022-04-01T13:16:38.436745Z",
     "iopub.status.busy": "2022-04-01T13:16:38.436131Z",
     "iopub.status.idle": "2022-04-01T13:16:38.438104Z",
     "shell.execute_reply": "2022-04-01T13:16:38.438519Z"
    }
   },
   "outputs": [],
   "source": [
    "# This just checks M*N - it doesn't check if M or N are correct!\n",
    "assert 'M' in dir()\n",
    "assert 'N' in dir()\n",
    "assert M != ...\n",
    "assert N != ...\n",
    "assert M * N == P"
   ]
  },
  {
   "cell_type": "markdown",
   "id": "342804ed",
   "metadata": {},
   "source": [
    "Next we want to convert the list of pixel values to an array (that forms the\n",
    "image).\n",
    "\n",
    "Convert the `pixel_values` list to a pixel values array, and reshape it to\n",
    "your guess for the shape `(M, N)`."
   ]
  },
  {
   "cell_type": "code",
   "execution_count": 9,
   "id": "2201218e",
   "metadata": {
    "execution": {
     "iopub.execute_input": "2022-04-01T13:16:38.459403Z",
     "iopub.status.busy": "2022-04-01T13:16:38.458642Z",
     "iopub.status.idle": "2022-04-01T13:16:38.462031Z",
     "shell.execute_reply": "2022-04-01T13:16:38.462456Z"
    }
   },
   "outputs": [],
   "source": [
    "# Convert list to array and reshape\n",
    "# Before we start - the M and N values should be integers:\n",
    "M = int(M)\n",
    "N = int(N)\n",
    "#- Now convert pixel array to an array, and reshape.\n",
    "pixel_array = np.array(pixel_values)\n",
    "pixel_array = np.reshape(pixel_array, (int(M), int(N)))\n",
    "# Show the shape of the pixel_array\n",
    "pixel_array.shape"
   ]
  },
  {
   "cell_type": "markdown",
   "id": "aaa1f856",
   "metadata": {},
   "source": [
    "Show this as an image using matplotlib’s `plt` module:"
   ]
  },
  {
   "cell_type": "code",
   "execution_count": 10,
   "id": "36a9e69a",
   "metadata": {
    "execution": {
     "iopub.execute_input": "2022-04-01T13:16:38.483076Z",
     "iopub.status.busy": "2022-04-01T13:16:38.482467Z",
     "iopub.status.idle": "2022-04-01T13:16:38.635330Z",
     "shell.execute_reply": "2022-04-01T13:16:38.635747Z"
    }
   },
   "outputs": [],
   "source": [
    "# Run this cell.\n",
    "# Show image using plt module\n",
    "plt.imshow(pixel_array)"
   ]
  },
  {
   "cell_type": "markdown",
   "id": "565bf898",
   "metadata": {},
   "source": [
    "Is this the right shape already?\n",
    "\n",
    "If not — go back and try other values for `M` and `N`.\n",
    "\n",
    "If you get stuck, feel free to check [the solution](camera_solution.ipynb)."
   ]
  },
  {
   "cell_type": "markdown",
   "id": "5b384e46",
   "metadata": {},
   "source": [
    "## The colors\n",
    "\n",
    "The colors are a little strange for a black and white photo (that is what this is).\n",
    "\n",
    "It would be better to display the image in black and white.\n",
    "\n",
    "Set the correct colormap in the plot command below.\n",
    "\n",
    "**Hint** — See the [Matplotlib colormap\n",
    "page](https://matplotlib.org/stable/tutorials/colors/colormaps.html).\n",
    "\n",
    "**Hint** – you can look for colormaps with `plt.cm.` and tab-completion, in IPython or a Jupyter notebook cell."
   ]
  },
  {
   "cell_type": "code",
   "execution_count": 11,
   "id": "c2ec8bae",
   "metadata": {
    "execution": {
     "iopub.execute_input": "2022-04-01T13:16:38.655096Z",
     "iopub.status.busy": "2022-04-01T13:16:38.654480Z",
     "iopub.status.idle": "2022-04-01T13:16:38.775042Z",
     "shell.execute_reply": "2022-04-01T13:16:38.775464Z"
    }
   },
   "outputs": [],
   "source": [
    "#- A nicer version of the original plot\n",
    "plt.imshow(pixel_array.T, cmap='gray')"
   ]
  },
  {
   "cell_type": "markdown",
   "id": "9157efe3",
   "metadata": {},
   "source": [
    "Now let’s say we want to binarize this image at some threshold `T`, so the\n",
    "man’s coat and hair and the camera tripod are black (pixel value of 0) and most\n",
    "everything else is white (pixel value of 1). How would we choose a good\n",
    "threshold? One step might be to plot a line out of the array (image) to get an\n",
    "idea of the values on that line."
   ]
  },
  {
   "cell_type": "code",
   "execution_count": 12,
   "id": "c7611a02",
   "metadata": {
    "execution": {
     "iopub.execute_input": "2022-04-01T13:16:38.795383Z",
     "iopub.status.busy": "2022-04-01T13:16:38.794692Z",
     "iopub.status.idle": "2022-04-01T13:16:38.880042Z",
     "shell.execute_reply": "2022-04-01T13:16:38.880605Z"
    }
   },
   "outputs": [],
   "source": [
    "# A plot of the pixel position in x and the pixel value in y, for an image line.\n",
    "plt.plot(pixel_array.T[380])"
   ]
  },
  {
   "cell_type": "markdown",
   "id": "8ed6cdf2",
   "metadata": {},
   "source": [
    "Now you need to apply your threshold to the image to make a binary image where\n",
    "values less than the threshold are == 0 and greater than the threshold are `==\n",
    "1`. You might want to play with the threshold a little to get a good result."
   ]
  },
  {
   "cell_type": "code",
   "execution_count": 13,
   "id": "1301fe6d",
   "metadata": {
    "execution": {
     "iopub.execute_input": "2022-04-01T13:16:38.884321Z",
     "iopub.status.busy": "2022-04-01T13:16:38.883706Z",
     "iopub.status.idle": "2022-04-01T13:16:39.002647Z",
     "shell.execute_reply": "2022-04-01T13:16:39.003077Z"
    }
   },
   "outputs": [],
   "source": [
    "#- Apply threshold to make new binary image, and show binary image\n",
    "binary_array = pixel_array > 0.3\n",
    "# Show the result.\n",
    "plt.imshow(binary_array.T, cmap='gray')"
   ]
  },
  {
   "cell_type": "markdown",
   "id": "632354a5",
   "metadata": {},
   "source": [
    "For extra points - the camera guy's coat is dark, and you can't see the details\n",
    "of the folds and collar of the coat at the moment, because the range of values\n",
    "is too large to distinguish the different dark levels on his coat. Can you make\n",
    "a good picture to show the folds on his coat, and the collar? Hint: you might\n",
    "want to explore the `np.clip` function."
   ]
  },
  {
   "cell_type": "code",
   "execution_count": 14,
   "id": "fe98d9be",
   "metadata": {
    "execution": {
     "iopub.execute_input": "2022-04-01T13:16:39.006951Z",
     "iopub.status.busy": "2022-04-01T13:16:39.006349Z",
     "iopub.status.idle": "2022-04-01T13:16:39.128988Z",
     "shell.execute_reply": "2022-04-01T13:16:39.129417Z"
    }
   },
   "outputs": [],
   "source": [
    "#- Extra points - a good image of the folds of the man's coat.\n",
    "clipped_array = np.clip(pixel_array, 0, 0.2)\n",
    "plt.imshow(clipped_array.T, cmap='gray');"
   ]
  },
  {
   "cell_type": "markdown",
   "id": "085cd094",
   "metadata": {},
   "source": [
    "## The solution\n",
    "\n",
    "Here is [the solution](camera_solution.ipynb)."
   ]
  }
 ],
 "metadata": {
  "jupytext": {
   "notebook_metadata_filter": "all,-language_info",
   "split_at_heading": true,
   "text_representation": {
    "extension": ".Rmd",
    "format_name": "rmarkdown",
    "format_version": "1.2",
    "jupytext_version": "1.13.7"
   }
  },
  "kernelspec": {
   "display_name": "Python 3",
   "language": "python",
   "name": "python3"
  },
  "language_info": {
   "codemirror_mode": {
    "name": "ipython",
    "version": 3
   },
   "file_extension": ".py",
   "mimetype": "text/x-python",
   "name": "python",
   "nbconvert_exporter": "python",
   "pygments_lexer": "ipython3",
   "version": "3.8.13"
  }
 },
 "nbformat": 4,
 "nbformat_minor": 5
}
